{
 "cells": [
  {
   "cell_type": "code",
   "execution_count": 2,
   "id": "130c9d1e",
   "metadata": {},
   "outputs": [
    {
     "name": "stdout",
     "output_type": "stream",
     "text": [
      "What is your current age? 56\n",
      "You have 12410 days, 1768 weeks, and 408 months left.\n"
     ]
    }
   ],
   "source": [
    "age = input(\"What is your current age? \")\n",
    "age1 = int(age)\n",
    "age_in_days =(90-age1)*365\n",
    "age_in_weeks =(90-age1)*52\n",
    "age_in_months =(90-age1)*12\n",
    "\n",
    "age_in_days1 =str(age_in_days)\n",
    "age_in_weeks1 =str(age_in_weeks)\n",
    "age_in_months1 =str(age_in_months)\n",
    "\n",
    "print(\"You have \" + age_in_days1 + \" days, \" + age_in_weeks1 +\" weeks, and \" + age_in_months1 + \" months left.\")"
   ]
  },
  {
   "cell_type": "code",
   "execution_count": null,
   "id": "99f8fb15",
   "metadata": {},
   "outputs": [],
   "source": []
  },
  {
   "cell_type": "code",
   "execution_count": null,
   "id": "4a1416e6",
   "metadata": {},
   "outputs": [],
   "source": []
  }
 ],
 "metadata": {
  "kernelspec": {
   "display_name": "Python 3 (ipykernel)",
   "language": "python",
   "name": "python3"
  },
  "language_info": {
   "codemirror_mode": {
    "name": "ipython",
    "version": 3
   },
   "file_extension": ".py",
   "mimetype": "text/x-python",
   "name": "python",
   "nbconvert_exporter": "python",
   "pygments_lexer": "ipython3",
   "version": "3.9.7"
  }
 },
 "nbformat": 4,
 "nbformat_minor": 5
}
